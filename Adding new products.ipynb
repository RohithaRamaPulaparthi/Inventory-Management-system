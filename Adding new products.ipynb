{
 "cells": [
  {
   "cell_type": "code",
   "execution_count": null,
   "id": "acf47b7b",
   "metadata": {},
   "outputs": [],
   "source": [
    "fd = open(\"inventory.json\",'r')\n",
    "r = fd.read()\n",
    "fd.close()\n",
    "\n",
    "inventory= json.loads(r)"
   ]
  },
  {
   "cell_type": "code",
   "execution_count": null,
   "id": "b5b567b0",
   "metadata": {},
   "outputs": [],
   "source": [
    "prod_id = str(input(\"Enter product id:\"))\n",
    "name = str(input(\"Enter Productname:\"))\n",
    "Price = int(input(\"Enter price:\"))\n",
    "Quantity = int(input(\"Enter quantity:\"))\n",
    "\n",
    "inventory[prod_id] = {'Productname': Productname, 'Price': Price, 'Quantity': Quantity}\n",
    "\n",
    "js = json.dumps(inventory)\n",
    "\n",
    "fd = open(\"inventory.json\",'w')\n",
    "fd.write(js)\n",
    "fd.close()"
   ]
  }
 ],
 "metadata": {
  "kernelspec": {
   "display_name": "Python 3",
   "language": "python",
   "name": "python3"
  },
  "language_info": {
   "codemirror_mode": {
    "name": "ipython",
    "version": 3
   },
   "file_extension": ".py",
   "mimetype": "text/x-python",
   "name": "python",
   "nbconvert_exporter": "python",
   "pygments_lexer": "ipython3",
   "version": "3.8.8"
  }
 },
 "nbformat": 4,
 "nbformat_minor": 5
}
