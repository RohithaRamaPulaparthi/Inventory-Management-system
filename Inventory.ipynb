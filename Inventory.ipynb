{
 "cells": [
  {
   "cell_type": "code",
   "execution_count": 3,
   "id": "85476c16",
   "metadata": {},
   "outputs": [],
   "source": [
    "inventory={ 101:{'ProductName':'Aerial Antenna','Price':5000 ,'Quantity':5 },\n",
    "            102:{'ProductName':'Battery AA','Price':450 ,'Quantity': 15},\n",
    "            103:{'ProductName':'Battery AAA','Price':800 ,'Quantity':15 },\n",
    "            104:{'ProductName':'Battrey HW','Price':50 ,'Quantity':50 },\n",
    "            105:{'ProductName':'Bridge Rectifier','Price':700 ,'Quantity':5 },\n",
    "            106:{'ProductName':'Capacitor 100F','Price': 200,'Quantity':50 },\n",
    "            107:{'ProductName':'LED-RED','Price':20 ,'Quantity': 500},\n",
    "            108:{'ProductName':'LED-WHITE','Price':20 ,'Quantity': 500},\n",
    "            109:{'ProductName':'LED-BLUE','Price': 20,'Quantity':500 },\n",
    "            110:{'ProductName':'LED-GREEN','Price':20 ,'Quantity':500 },\n",
    "            111:{'ProductName':'Relay','Price':600 ,'Quantity': 20},\n",
    "            112:{'Product Name':'Transistor-PNP','Price':50 ,'Quantity': 50},\n",
    "            113:{'ProductName':'Transistor-NPN','Price':50 ,'Quantity':50 },\n",
    "            114:{'ProductName':'FET','Price':50 ,'Quantity':50 },\n",
    "            115:{'ProductName':'MOSFET','Price':50 ,'Quantity':50 },\n",
    "            116:{'ProductName':'Resistor 100ohms','Price':50 ,'Quantity':50 },\n",
    "            117:{'ProductName':'Resistor 200ohms','Price':50 ,'Quantity':50 },\n",
    "            118:{'ProductName':'Resistor 500ohms','Price':50 ,'Quantity':50 },\n",
    "            119:{'ProductName':'Resistor 1kohm','Price':100 ,'Quantity':50 },\n",
    "            120:{'ProductName':'Capacitor 100F','Price':50 ,'Quantity':50 },\n",
    "            121:{'ProductName':'IC 7400 // 2 input NAND gate','Price':200 ,'Quantity':15 },\n",
    "            122:{'ProductName':'IC 7402 // 2 input NOR gate','Price': 300,'Quantity':15},\n",
    "            123:{'ProductName':'IC 7404 // NOT gate','Price':200 ,'Quantity': 15},\n",
    "            124:{'ProductName':'IC 7408 // 2input AND gate','Price':200 ,'Quantity':15 },\n",
    "            125:{'ProductName':'IC 7432 // 2 input OR gate','Price':200 ,'Quantity':15 },\n",
    "            126:{'ProductName':'IC 7486 // 2 input XOR gate','Price':200 ,'Quantity':15 },\n",
    "            127:{'ProductName':'Trainer kits','Price':2000 ,'Quantity':5 },\n",
    "            128:{'ProductName':'TPS','Price':7000 ,'Quantity':5 },\n",
    "            129:{'ProductName':'connecting wire sets','Price':100 ,'Quantity':60},\n",
    "            130:{'ProductName':'Breadboards','Price':100 ,'Quantity':10 }}"
   ]
  },
  {
   "cell_type": "code",
   "execution_count": 4,
   "id": "23b34f2c",
   "metadata": {},
   "outputs": [],
   "source": [
    "import json"
   ]
  },
  {
   "cell_type": "code",
   "execution_count": 6,
   "id": "259b6fe5",
   "metadata": {},
   "outputs": [],
   "source": [
    "js=json.dumps(inventory)\n",
    "\n",
    "fd=open(\"inventory.json\",'w')\n",
    "fd.write(js)\n",
    "fd.close()\n"
   ]
  },
  {
   "cell_type": "code",
   "execution_count": 7,
   "id": "7e3d3f69",
   "metadata": {},
   "outputs": [],
   "source": [
    "fd=open(\"inventory.json\",'r')\n",
    "r=fd.read()\n",
    "fd.close()"
   ]
  },
  {
   "cell_type": "code",
   "execution_count": 8,
   "id": "00cb4bb7",
   "metadata": {},
   "outputs": [],
   "source": [
    "record = json.loads(r)"
   ]
  },
  {
   "cell_type": "code",
   "execution_count": 9,
   "id": "8ddbc0bb",
   "metadata": {},
   "outputs": [
    {
     "data": {
      "text/plain": [
       "{'101': {'ProductName': 'Aerial Antenna', 'Price': 5000, 'Quantity': 5},\n",
       " '102': {'ProductName': 'Battery AA', 'Price': 450, 'Quantity': 15},\n",
       " '103': {'ProductName': 'Battery AAA', 'Price': 800, 'Quantity': 15},\n",
       " '104': {'ProductName': 'Battrey HW', 'Price': 50, 'Quantity': 50},\n",
       " '105': {'ProductName': 'Bridge Rectifier', 'Price': 700, 'Quantity': 5},\n",
       " '106': {'ProductName': 'Capacitor 100F', 'Price': 200, 'Quantity': 50},\n",
       " '107': {'ProductName': 'LED-RED', 'Price': 20, 'Quantity': 500},\n",
       " '108': {'ProductName': 'LED-WHITE', 'Price': 20, 'Quantity': 500},\n",
       " '109': {'ProductName': 'LED-BLUE', 'Price': 20, 'Quantity': 500},\n",
       " '110': {'ProductName': 'LED-GREEN', 'Price': 20, 'Quantity': 500},\n",
       " '111': {'ProductName': 'Relay', 'Price': 600, 'Quantity': 20},\n",
       " '112': {'Product Name': 'Transistor-PNP', 'Price': 50, 'Quantity': 50},\n",
       " '113': {'ProductName': 'Transistor-NPN', 'Price': 50, 'Quantity': 50},\n",
       " '114': {'ProductName': 'FET', 'Price': 50, 'Quantity': 50},\n",
       " '115': {'ProductName': 'MOSFET', 'Price': 50, 'Quantity': 50},\n",
       " '116': {'ProductName': 'Resistor 100ohms', 'Price': 50, 'Quantity': 50},\n",
       " '117': {'ProductName': 'Resistor 200ohms', 'Price': 50, 'Quantity': 50},\n",
       " '118': {'ProductName': 'Resistor 500ohms', 'Price': 50, 'Quantity': 50},\n",
       " '119': {'ProductName': 'Resistor 1kohm', 'Price': 100, 'Quantity': 50},\n",
       " '120': {'ProductName': 'Capacitor 100F', 'Price': 50, 'Quantity': 50},\n",
       " '121': {'ProductName': 'IC 7400 // 2 input NAND gate',\n",
       "  'Price': 200,\n",
       "  'Quantity': 15},\n",
       " '122': {'ProductName': 'IC 7402 // 2 input NOR gate',\n",
       "  'Price': 300,\n",
       "  'Quantity': 15},\n",
       " '123': {'ProductName': 'IC 7404 // NOT gate', 'Price': 200, 'Quantity': 15},\n",
       " '124': {'ProductName': 'IC 7408 // 2input AND gate',\n",
       "  'Price': 200,\n",
       "  'Quantity': 15},\n",
       " '125': {'ProductName': 'IC 7432 // 2 input OR gate',\n",
       "  'Price': 200,\n",
       "  'Quantity': 15},\n",
       " '126': {'ProductName': 'IC 7486 // 2 input XOR gate',\n",
       "  'Price': 200,\n",
       "  'Quantity': 15},\n",
       " '127': {'ProductName': 'Trainer kits', 'Price': 2000, 'Quantity': 5},\n",
       " '128': {'ProductName': 'TPS', 'Price': 7000, 'Quantity': 5},\n",
       " '129': {'ProductName': 'connecting wire sets', 'Price': 100, 'Quantity': 60},\n",
       " '130': {'ProductName': 'Bread boards', 'Price': 100, 'Quantity': 10}}"
      ]
     },
     "execution_count": 9,
     "metadata": {},
     "output_type": "execute_result"
    }
   ],
   "source": [
    "record"
   ]
  },
  {
   "cell_type": "code",
   "execution_count": null,
   "id": "02a2884a",
   "metadata": {},
   "outputs": [],
   "source": [
    "print(\"ITEMS AVALIABLE IN INVENTORY\\n\")\n",
    "print(inventory)\n",
    "print(\"*******************\\n1) Updating inventory\\n2) Adding/Changing data to inventory\\n3) Purchasing items from inventory\\n*******************\\n\")\n",
    "choice=int(input(\"ENTER VALUE TO PROCEED :\"))\n",
    "#1 update\n",
    "#2 adding\n",
    "#3 purchase\n",
    "\n",
    "if(choice==1):\n",
    "    product_id=str(input(\"Enter Product ID : \"))\n",
    "    quantity=int(input(\"Enter no.of items to update\"))\n",
    "    inventory[product_id]['Quantity']=int(inventory[product_id]['Quantity'])+quantity\n",
    "    jfd=json.dumps(inventory)\n",
    "    fd=open(\"project.json\",\"w\")\n",
    "    fd.write(jfd)\n",
    "    fd.close\n",
    "elif(choice==2):\n",
    "    product_id=str(input(\"Enter Product ID to ADD : \"))\n",
    "    product_name=str(input(\"Enter Product Name :\"))\n",
    "    price=int(input(\"Enter Price of the Product : \"))\n",
    "    quantity=int(input(\"Enter Quantity of the Product : \"))\n",
    "    inventory[product_id]={'Product Name':product_name,'Price':price,'Quantity':quantity}\n",
    "    jfd=json.dumps(inventory)\n",
    "    fd=open(\"project.json\",\"w\")\n",
    "    fd.write(jfd)\n",
    "    fd.close\n",
    "elif(choice==3):\n",
    "    product_id=str(input(\"Enter Product ID from above list to purchase item\"))\n",
    "    quantity=int(input(\"How much quantity do you want : \"))\n",
    "    if(int(inventory[product_id]['Quantity'])>=quantity):\n",
    "        print(\"********************\\nBILL---------------------------------\\n\")\n",
    "        print(\"PRODUCT ID-----------\",product_id)\n",
    "        print(\"PRODUCT NAME---------\",inventory[product_id]['Product Name'])\n",
    "        print(\"QUANTITY-------------\",quantity)\n",
    "        print(\"TOTAL AMOUNT---------\",int(inventory[product_id]['Price'])*quantity)\n",
    "        inventory[product_id]['Quantity']=int(inventory[product_id]['Quantity'])-quantity\n",
    "        jfd=json.dumps(inventory)\n",
    "        fd=open(\"project.json\",\"w\")\n",
    "        fd.write(jfd)\n",
    "        fd.close\n",
    "    else:\n",
    "        print(\"WE HAVE \",inventory[product_id]['Quantity'],\"ITEMS YOUR NEED IS\",quantity,\"DO YOU WANT TO CONTUNIE TO PURCHASE\")\n",
    "        choose=str(input(\"Enter Y/N : \"))\n",
    "        if(choose=='y'or choose=='Y'):\n",
    "            print(\"PRODUCT ID-----------\",product_id)\n",
    "            print(\"PRODUCT NAME---------\",inventory[product_id]['Product Name'])\n",
    "            print(\"QUANTITY-------------\",quantity)\n",
    "            print(\"TOTAL AMOUNT---------\",int(inventory[product_id]['Price'])*quantity)\n",
    "            inventory[product_id]['Quantity']=int(inventory[product_id]['Quantity'])-quantity\n",
    "            jfd=json.dumps(inventory)\n",
    "            fd=open(\"project.json\",\"w\")\n",
    "            fd.write(jfd)\n",
    "            fd.close\n",
    "        else:\n",
    "            print(\"THANKS FOR COMING WE WILL SATIFY YOUR NEED IN THE NEXT PURCHASE\")\n"
   ]
  }
 ],
 "metadata": {
  "kernelspec": {
   "display_name": "Python 3",
   "language": "python",
   "name": "python3"
  },
  "language_info": {
   "codemirror_mode": {
    "name": "ipython",
    "version": 3
   },
   "file_extension": ".py",
   "mimetype": "text/x-python",
   "name": "python",
   "nbconvert_exporter": "python",
   "pygments_lexer": "ipython3",
   "version": "3.8.8"
  }
 },
 "nbformat": 4,
 "nbformat_minor": 5
}
