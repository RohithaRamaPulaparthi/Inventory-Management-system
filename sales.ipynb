{
 "cells": [
  {
   "cell_type": "markdown",
   "id": "30e35c66",
   "metadata": {},
   "source": [
    "# sales"
   ]
  },
  {
   "cell_type": "code",
   "execution_count": null,
   "id": "67eb3188",
   "metadata": {},
   "outputs": [],
   "source": [
    "import json\n",
    "\n",
    "fd = open(\"inventory.json\",'r')\n",
    "r = fd.read()\n",
    "fd.close()\n",
    "\n",
    "inventory = json.loads(r)"
   ]
  },
  {
   "cell_type": "code",
   "execution_count": 1,
   "id": "0e7ea21d",
   "metadata": {},
   "outputs": [],
   "source": [
    "ui_product  = str(input(\"Enter the product_Id: \"))\n",
    "ui_quantity = int(input(\"Enter the quantity: \"))\n",
    "\n",
    "\n",
    "print(\"Product: \", inventory [ui_product]['Productname'])\n",
    "print(\"Price: \", inventory [ui_product]['Price'])\n",
    "print(\"Billing Amount: \", inventory [ui_product]['Price'] * ui_Quantity)\n",
    "\n",
    "inventory[ui_product]['Quantity'] = inventory [ui_product]['Quantity'] - ui_Quantity"
   ]
  },
  {
   "cell_type": "code",
   "execution_count": null,
   "id": "315c097b",
   "metadata": {},
   "outputs": [],
   "source": [
    "js = json.dumps(inventory )\n",
    "\n",
    "fd = open(\"inventory.json\",'w')\n",
    "fd.write(js)\n",
    "fd.close()\n"
   ]
  },
  {
   "cell_type": "code",
   "execution_count": null,
   "id": "39cdfe50",
   "metadata": {},
   "outputs": [],
   "source": [
    "{'ProductName':ui_product,'Quantity':ui_quantity,'amount':inventory[ui_product]['Price']*ui_quantity}"
   ]
  },
  {
   "cell_type": "code",
   "execution_count": null,
   "id": "0b6f9c04",
   "metadata": {},
   "outputs": [],
   "source": [
    "sales={1:{'Product_Id':ui_product,'Quantity':ui_quantity:inventory[ui_product]['Product_Id']*ui_quantity},\n",
    "       2:{'Product_Id':ui_product,'Quantity':ui_quantity:inventory[ui_product]['Product_Id']*ui_quantity},\n",
    "       3:{'Product_Id':ui_product,'Quantity':ui_quantity:inventory[ui_product]['Product_Id']*ui_quantity},\n",
    "       4:{'Product_Id':ui_product,'Quantity':ui_quantity:inventory[ui_product]['Product_Id']*ui_quantity},\n",
    "       5:{'Product_Id':ui_product,'Quantity':ui_quantity:inventory[ui_product]['Product_Id']*ui_quantity},\n",
    "       7:{'Product_Id':ui_product,'Quantity':ui_quantity:inventory[ui_product]['Product_Id']*ui_quantity},\n",
    "       8:{'Product_Id':ui_product,'Quantity':ui_quantity:inventory[ui_product]['Product_Id']*ui_quantity},\n",
    "       9:{'Product_Id':ui_product,'Quantity':ui_quantity:inventory[ui_product]['Product_Id']*ui_quantity},\n",
    "       10:{'Product_Id':ui_product,'Quantity':ui_quantity:inventory[ui_product]['Product_Id']*ui_quantity},}"
   ]
  },
  {
   "cell_type": "code",
   "execution_count": null,
   "id": "8e45fb11",
   "metadata": {},
   "outputs": [],
   "source": [
    "sale=json.dumps(sales)"
   ]
  },
  {
   "cell_type": "code",
   "execution_count": null,
   "id": "924f4dd1",
   "metadata": {},
   "outputs": [],
   "source": [
    "\n",
    "fd=open(\"sales.json\",'w')\n",
    "fd.write(sale)\n",
    "fd.close()\n"
   ]
  },
  {
   "cell_type": "code",
   "execution_count": null,
   "id": "2c16c358",
   "metadata": {},
   "outputs": [],
   "source": [
    "{(len(sales)+1):{'product_Id':ui_product,'Quantity':ui_quantity,'amount':inventory[ui_product]['Price']*ui_quantity}}"
   ]
  }
 ],
 "metadata": {
  "kernelspec": {
   "display_name": "Python 3",
   "language": "python",
   "name": "python3"
  },
  "language_info": {
   "codemirror_mode": {
    "name": "ipython",
    "version": 3
   },
   "file_extension": ".py",
   "mimetype": "text/x-python",
   "name": "python",
   "nbconvert_exporter": "python",
   "pygments_lexer": "ipython3",
   "version": "3.8.8"
  }
 },
 "nbformat": 4,
 "nbformat_minor": 5
}
